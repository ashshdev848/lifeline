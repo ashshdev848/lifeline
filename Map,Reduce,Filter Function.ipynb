{
 "cells": [
  {
   "cell_type": "code",
   "execution_count": 7,
   "id": "ccbb6439-7426-4f93-9205-5e40b6b55e7b",
   "metadata": {},
   "outputs": [],
   "source": [
    "#print the square of the given number\n",
    "l=[2,3,4,5,6]"
   ]
  },
  {
   "cell_type": "code",
   "execution_count": 8,
   "id": "71ec4b2a-9e84-4d38-a548-f105609da7c6",
   "metadata": {},
   "outputs": [],
   "source": [
    "def test(l):\n",
    "    l1 = []\n",
    "    for i in l:\n",
    "        l1.append(i**2)\n",
    "    return l1"
   ]
  },
  {
   "cell_type": "code",
   "execution_count": 9,
   "id": "baacb672-8863-458b-8666-f4a903faf450",
   "metadata": {},
   "outputs": [
    {
     "data": {
      "text/plain": [
       "[4, 9, 16, 25, 36]"
      ]
     },
     "execution_count": 9,
     "metadata": {},
     "output_type": "execute_result"
    }
   ],
   "source": [
    "test(l)"
   ]
  },
  {
   "cell_type": "code",
   "execution_count": 10,
   "id": "d44d5799-1e88-4ef8-aca1-7fda503f392e",
   "metadata": {},
   "outputs": [],
   "source": [
    "def sq(x):\n",
    "    return x**2\n"
   ]
  },
  {
   "cell_type": "code",
   "execution_count": 11,
   "id": "73200a87-acc0-49f9-9446-318d21aad044",
   "metadata": {},
   "outputs": [
    {
     "data": {
      "text/plain": [
       "[4, 9, 16, 25, 36]"
      ]
     },
     "execution_count": 11,
     "metadata": {},
     "output_type": "execute_result"
    }
   ],
   "source": [
    "list(map(sq,l))"
   ]
  },
  {
   "cell_type": "code",
   "execution_count": 12,
   "id": "4fc2d446-b9f0-47e1-b8dc-050e899b4127",
   "metadata": {},
   "outputs": [
    {
     "data": {
      "text/plain": [
       "[4, 9, 16, 25, 36]"
      ]
     },
     "execution_count": 12,
     "metadata": {},
     "output_type": "execute_result"
    }
   ],
   "source": [
    "list(map(lambda x:x**2,l))"
   ]
  },
  {
   "cell_type": "code",
   "execution_count": 13,
   "id": "b8b99735-318b-4bc6-aa12-6e76123109d8",
   "metadata": {},
   "outputs": [
    {
     "data": {
      "text/plain": [
       "[7, 9, 11, 13, 15]"
      ]
     },
     "execution_count": 13,
     "metadata": {},
     "output_type": "execute_result"
    }
   ],
   "source": [
    "#add the two index using map function.\n",
    "l1=[1,2,3,4,5]\n",
    "l2=[6,7,8,9,10]\n",
    "list(map(lambda x,y : x+y ,l1,l2))"
   ]
  },
  {
   "cell_type": "code",
   "execution_count": 14,
   "id": "0abeccee-36dd-41fc-af7e-1d8ceddbacfc",
   "metadata": {},
   "outputs": [],
   "source": [
    "def add(x,y) :\n",
    "    return x+y"
   ]
  },
  {
   "cell_type": "code",
   "execution_count": 6,
   "id": "2be469b6-e2d7-4d7d-81f5-ba6189838213",
   "metadata": {},
   "outputs": [
    {
     "data": {
      "text/plain": [
       "[7, 9, 11, 13, 15]"
      ]
     },
     "execution_count": 6,
     "metadata": {},
     "output_type": "execute_result"
    }
   ],
   "source": [
    "list(map(add,l1,l2))"
   ]
  },
  {
   "cell_type": "code",
   "execution_count": 19,
   "id": "c7161aeb-190c-4c23-999d-9863a69bbfc3",
   "metadata": {},
   "outputs": [
    {
     "data": {
      "text/plain": [
       "['P', 'W', 'S', 'K', 'I', 'L', 'L', 'S']"
      ]
     },
     "execution_count": 19,
     "metadata": {},
     "output_type": "execute_result"
    }
   ],
   "source": [
    "#print the string in upper case by using of map & lambdan function\n",
    "s=\"pwskills\"\n",
    "list(map(lambda s : s.upper(),s))"
   ]
  },
  {
   "cell_type": "code",
   "execution_count": 22,
   "id": "1f7bdd83-f67d-4cb2-b8d7-7db83a6fcb46",
   "metadata": {},
   "outputs": [],
   "source": [
    "s=\"pwskills\"\n",
    "a=s.upper()"
   ]
  },
  {
   "cell_type": "code",
   "execution_count": 23,
   "id": "5e942f75-a1cb-42f9-b744-671f8b52919b",
   "metadata": {},
   "outputs": [
    {
     "name": "stdout",
     "output_type": "stream",
     "text": [
      "PWSKILLS\n"
     ]
    }
   ],
   "source": [
    "print(a)"
   ]
  },
  {
   "cell_type": "code",
   "execution_count": 25,
   "id": "3fc14c8d-d1da-40e2-a9b0-9886959dd12b",
   "metadata": {},
   "outputs": [],
   "source": [
    "from functools import reduce"
   ]
  },
  {
   "cell_type": "code",
   "execution_count": 26,
   "id": "69492ecf-6aa1-405d-865a-66105bf42eba",
   "metadata": {},
   "outputs": [],
   "source": [
    "l=[1,2,3,3,4,5]"
   ]
  },
  {
   "cell_type": "code",
   "execution_count": 27,
   "id": "fedd4324-ac8f-468b-9dbc-f1b3329e0743",
   "metadata": {},
   "outputs": [
    {
     "data": {
      "text/plain": [
       "18"
      ]
     },
     "execution_count": 27,
     "metadata": {},
     "output_type": "execute_result"
    }
   ],
   "source": [
    "reduce(lambda x,y :x+y,l)"
   ]
  },
  {
   "cell_type": "code",
   "execution_count": 28,
   "id": "dd72f343-6437-41bd-9e22-ef6688a7eb82",
   "metadata": {},
   "outputs": [
    {
     "data": {
      "text/plain": [
       "360"
      ]
     },
     "execution_count": 28,
     "metadata": {},
     "output_type": "execute_result"
    }
   ],
   "source": [
    "reduce(lambda x,y :x*y,l)"
   ]
  },
  {
   "cell_type": "code",
   "execution_count": 29,
   "id": "03b5f748-68ca-43cd-9bfb-bcb2e963a6dd",
   "metadata": {},
   "outputs": [
    {
     "data": {
      "text/plain": [
       "5"
      ]
     },
     "execution_count": 29,
     "metadata": {},
     "output_type": "execute_result"
    }
   ],
   "source": [
    "reduce(lambda x,y :x if x > y else y,l)"
   ]
  },
  {
   "cell_type": "code",
   "execution_count": 30,
   "id": "5edc656e-bfa6-4103-b49e-8f717bbc1436",
   "metadata": {},
   "outputs": [
    {
     "data": {
      "text/plain": [
       "[1, 2, 3, 3, 4, 5]"
      ]
     },
     "execution_count": 30,
     "metadata": {},
     "output_type": "execute_result"
    }
   ],
   "source": [
    "l"
   ]
  },
  {
   "cell_type": "code",
   "execution_count": 31,
   "id": "eee38c7d-2788-4546-8494-65b39dd02e8b",
   "metadata": {},
   "outputs": [
    {
     "data": {
      "text/plain": [
       "[2, 4]"
      ]
     },
     "execution_count": 31,
     "metadata": {},
     "output_type": "execute_result"
    }
   ],
   "source": [
    "list(filter(lambda x: x%2 ==0,l))"
   ]
  },
  {
   "cell_type": "code",
   "execution_count": 32,
   "id": "0f626053-601c-4f0c-900b-ba95d3486b87",
   "metadata": {},
   "outputs": [
    {
     "data": {
      "text/plain": [
       "[1, 3, 3, 5]"
      ]
     },
     "execution_count": 32,
     "metadata": {},
     "output_type": "execute_result"
    }
   ],
   "source": [
    "list(filter(lambda x: x%2 !=0,l))"
   ]
  },
  {
   "cell_type": "code",
   "execution_count": 34,
   "id": "df4f669a-c6eb-4e0f-896e-7ea013cd152c",
   "metadata": {},
   "outputs": [],
   "source": [
    "l1=[1,-5,-8,7,9,6,-2]"
   ]
  },
  {
   "cell_type": "code",
   "execution_count": 35,
   "id": "7a9ab8c8-11b1-40fd-a5a0-bd29a17137dc",
   "metadata": {},
   "outputs": [
    {
     "data": {
      "text/plain": [
       "[-5, -8, -2]"
      ]
     },
     "execution_count": 35,
     "metadata": {},
     "output_type": "execute_result"
    }
   ],
   "source": [
    "list (filter(lambda x : x<0,l1))"
   ]
  },
  {
   "cell_type": "code",
   "execution_count": 36,
   "id": "08d9f476-b2ff-42a0-b512-6c100fc3db70",
   "metadata": {},
   "outputs": [],
   "source": [
    "l2=[\"ashish\",\"pwskill\",\"kumar\",\"banglore\",\"krish\"]"
   ]
  },
  {
   "cell_type": "code",
   "execution_count": 40,
   "id": "34ad03bd-cbfb-45e8-b804-2ee3c2bdbdfa",
   "metadata": {},
   "outputs": [
    {
     "data": {
      "text/plain": [
       "['kumar', 'krish']"
      ]
     },
     "execution_count": 40,
     "metadata": {},
     "output_type": "execute_result"
    }
   ],
   "source": [
    "list(filter(lambda x : len(x) < 6 , l2))"
   ]
  },
  {
   "cell_type": "code",
   "execution_count": 41,
   "id": "06b2b1f3-b77e-41f3-a61b-9610b7f866b3",
   "metadata": {},
   "outputs": [],
   "source": [
    "l=[2, 3, 6, 9, 27, 60, 90, 120, 55, 46]"
   ]
  },
  {
   "cell_type": "code",
   "execution_count": 50,
   "id": "b53a1c68-dc64-431d-a75e-3deca9e3ff2c",
   "metadata": {},
   "outputs": [
    {
     "data": {
      "text/plain": [
       "[2, 6, 60, 90, 120, 46]"
      ]
     },
     "execution_count": 50,
     "metadata": {},
     "output_type": "execute_result"
    }
   ],
   "source": [
    "list(filter(lambda x : x%2==0,l))\n"
   ]
  },
  {
   "cell_type": "code",
   "execution_count": 49,
   "id": "a41ab376-0532-4e4f-b5cb-c6a3e8478ca0",
   "metadata": {},
   "outputs": [
    {
     "data": {
      "text/plain": [
       "[3, 6, 9, 27, 60, 90, 120]"
      ]
     },
     "execution_count": 49,
     "metadata": {},
     "output_type": "execute_result"
    }
   ],
   "source": [
    "list(filter(lambda x : x%3==0,l))"
   ]
  },
  {
   "cell_type": "code",
   "execution_count": null,
   "id": "0ab39e62-e427-4cdf-9160-53d1aaeeb665",
   "metadata": {},
   "outputs": [],
   "source": []
  }
 ],
 "metadata": {
  "kernelspec": {
   "display_name": "Python 3 (ipykernel)",
   "language": "python",
   "name": "python3"
  },
  "language_info": {
   "codemirror_mode": {
    "name": "ipython",
    "version": 3
   },
   "file_extension": ".py",
   "mimetype": "text/x-python",
   "name": "python",
   "nbconvert_exporter": "python",
   "pygments_lexer": "ipython3",
   "version": "3.10.8"
  }
 },
 "nbformat": 4,
 "nbformat_minor": 5
}
